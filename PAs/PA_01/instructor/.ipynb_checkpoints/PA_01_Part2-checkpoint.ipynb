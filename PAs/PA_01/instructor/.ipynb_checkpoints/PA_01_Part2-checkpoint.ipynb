{
 "cells": [
  {
   "cell_type": "markdown",
   "metadata": {
    "nbgrader": {
     "grade": false,
     "grade_id": "cell-af697b56182ccb69",
     "locked": true,
     "schema_version": 3,
     "solution": false,
     "task": false
    }
   },
   "source": [
    "# Tuning a Decision Tree Classifier for the \"Have You Ever\" Dataset\n",
    "\n",
    "## Cross Validation / Tuning Hyperparameters\n",
    "\n",
    "Utilizing **your** decision tree, perform hyperparameter tuning using k-fold crossvalidation\n",
    "in the following code block.  The testing script for this code assumes that\n",
    "the npy files and your decision_tree.py are in the same directory as this notebook."
   ]
  },
  {
   "cell_type": "code",
   "execution_count": 15,
   "metadata": {
    "nbgrader": {
     "grade": true,
     "grade_id": "cell-2e647b20f1f2cda8",
     "locked": false,
     "points": 0,
     "schema_version": 3,
     "solution": true,
     "task": false
    }
   },
   "outputs": [
    {
     "data": {
      "image/png": "[encoded data removed]",
      "text/plain": [
       "<Figure size 432x288 with 1 Axes>"
      ]
     },
     "metadata": {
      "needs_background": "light"
     },
     "output_type": "display_data"
    }
   ],
   "source": [
    "X_train = np.load('X_train.npy')\n",
    "y_train = np.load('y_train.npy')\n",
    "X_test = np.load('X_test.npy')\n",
    "y_test = np.load('y_test.npy')\n",
    "from decision_tree import DecisionTree\n",
    "\n",
    "### BEGIN SOLUTION\n",
    "%matplotlib inline\n",
    "from sklearn.model_selection import KFold\n",
    "from sklearn import metrics\n",
    "import numpy as np\n",
    "import matplotlib.pyplot as plt\n",
    "\n",
    "X_train = np.load('data/X_train.npy')\n",
    "y_train = np.load('data/y_train.npy')\n",
    "X_test = np.load('data/X_test.npy')\n",
    "y_test = np.load('data/y_test.npy')\n",
    "\n",
    "folds = 10\n",
    "max_max_depth = 12\n",
    "kf = KFold(n_splits=folds)\n",
    "\n",
    "accuracies = np.zeros((folds, max_max_depth - 1)) \n",
    "\n",
    "# Loop over all of the hyperparameter settings\n",
    "for max_depth in range(1, max_max_depth):\n",
    "    \n",
    "    k = 0\n",
    "    \n",
    "    # Evaluate each one K-times\n",
    "    for train_index, val_index in kf.split(X_train):\n",
    "        X_tr, X_val = X_train[train_index], X_train[val_index]\n",
    "        y_tr, y_val = y_train[train_index], y_train[val_index]\n",
    "\n",
    "        tree = DecisionTree(max_depth=max_depth)\n",
    "        tree.fit(X_tr, y_tr)\n",
    "        \n",
    "        y_val_predict = tree.predict(X_val)\n",
    "        accuracies[k, max_depth - 1] = np.sum(y_val == y_val_predict) / y_val.size\n",
    "        \n",
    "        k += 1\n",
    "        \n",
    "### END SOLUTION"
   ]
  },
  {
   "cell_type": "code",
   "execution_count": null,
   "metadata": {
    "nbgrader": {
     "grade": false,
     "grade_id": "cell-acfcb71ea9d3817f",
     "locked": true,
     "schema_version": 3,
     "solution": false,
     "task": false
    }
   },
   "outputs": [],
   "source": [
    "Plot average cross validation accuracy or error (just make it clear which one you are plotting)."
   ]
  },
  {
   "cell_type": "code",
   "execution_count": null,
   "metadata": {
    "nbgrader": {
     "grade": true,
     "grade_id": "cell-202f3fe902129f3c",
     "locked": false,
     "points": 0,
     "schema_version": 3,
     "solution": true,
     "task": false
    }
   },
   "outputs": [],
   "source": [
    "# Code to plot hyperparameter versus accuracy or error rate\n",
    "\n",
    "### BEGIN SOLUTION\n",
    "# Average across the k folds\n",
    "accuracies_avg = np.mean(accuracies, axis=0)\n",
    "\n",
    "plt.plot(np.arange(1, max_max_depth), accuracies_avg)\n",
    "plt.xlabel('max depth')\n",
    "plt.ylabel('accuracy')\n",
    "plt.show()\n",
    "### END SOLUTION\n"
   ]
  },
  {
   "cell_type": "markdown",
   "metadata": {
    "nbgrader": {
     "grade": true,
     "grade_id": "cell-e2942ea66df20ac9",
     "locked": false,
     "points": 0,
     "schema_version": 3,
     "solution": true,
     "task": false
    }
   },
   "source": [
    "# Comments about Cross validation\n",
    "\n",
    "Add any comments about your cross validation here.\n",
    "\n",
    "### BEGIN SOLUTION\n",
    "Unfortunately, this cross-validation curve looks quite noisy.  \n",
    "This isn't very surpising given the size of the training set: only 600 data \n",
    "points for four classes, which is just 150 examples per class.  That said, the best \n",
    "validation performance is depth-2, so we will proceed with that value.\n",
    "### END SOLUTION\n"
   ]
  },
  {
   "cell_type": "markdown",
   "metadata": {
    "nbgrader": {
     "grade": false,
     "grade_id": "cell-1d237a7f11ed9d74",
     "locked": true,
     "schema_version": 3,
     "solution": false,
     "task": false
    }
   },
   "source": [
    "## Model Evaluation and Confusion Matrix\n",
    "\n",
    "Train a decision tree using our best depth on the full training data and see how well we do on the testing set.  The code below **must** compute the accuracy and a 4x4 confusion matrix.\n",
    "\n",
    "You are free to use the **sklearn metrics.confusion_matrix** method."
   ]
  },
  {
   "cell_type": "code",
   "execution_count": 1,
   "metadata": {
    "nbgrader": {
     "grade": true,
     "grade_id": "cell-91f2b34d96dbf7bf",
     "locked": false,
     "points": 0,
     "schema_version": 3,
     "solution": true,
     "task": false
    }
   },
   "outputs": [
    {
     "ename": "NameError",
     "evalue": "name 'DecisionTree' is not defined",
     "output_type": "error",
     "traceback": [
      "\u001b[0;31m---------------------------------------------------------------------------\u001b[0m",
      "\u001b[0;31mNameError\u001b[0m                                 Traceback (most recent call last)",
      "\u001b[0;32m<ipython-input-1-e62780963c38>\u001b[0m in \u001b[0;36m<module>\u001b[0;34m\u001b[0m\n\u001b[1;32m      1\u001b[0m \u001b[0;31m### BEGIN SOLUTION\u001b[0m\u001b[0;34m\u001b[0m\u001b[0;34m\u001b[0m\u001b[0;34m\u001b[0m\u001b[0m\n\u001b[0;32m----> 2\u001b[0;31m \u001b[0mtree\u001b[0m \u001b[0;34m=\u001b[0m \u001b[0mDecisionTree\u001b[0m\u001b[0;34m(\u001b[0m\u001b[0mmax_depth\u001b[0m\u001b[0;34m=\u001b[0m\u001b[0;36m2\u001b[0m\u001b[0;34m)\u001b[0m\u001b[0;34m\u001b[0m\u001b[0;34m\u001b[0m\u001b[0m\n\u001b[0m\u001b[1;32m      3\u001b[0m \u001b[0mtree\u001b[0m\u001b[0;34m.\u001b[0m\u001b[0mfit\u001b[0m\u001b[0;34m(\u001b[0m\u001b[0mX_train\u001b[0m\u001b[0;34m,\u001b[0m \u001b[0my_train\u001b[0m\u001b[0;34m)\u001b[0m\u001b[0;34m\u001b[0m\u001b[0;34m\u001b[0m\u001b[0m\n\u001b[1;32m      4\u001b[0m \u001b[0;34m\u001b[0m\u001b[0m\n\u001b[1;32m      5\u001b[0m \u001b[0my_pred\u001b[0m \u001b[0;34m=\u001b[0m \u001b[0mtree\u001b[0m\u001b[0;34m.\u001b[0m\u001b[0mpredict\u001b[0m\u001b[0;34m(\u001b[0m\u001b[0mX_test\u001b[0m\u001b[0;34m)\u001b[0m\u001b[0;34m\u001b[0m\u001b[0;34m\u001b[0m\u001b[0m\n",
      "\u001b[0;31mNameError\u001b[0m: name 'DecisionTree' is not defined"
     ]
    }
   ],
   "source": [
    "### BEGIN SOLUTION\n",
    "tree = DecisionTree(max_depth=2)\n",
    "tree.fit(X_train, y_train)\n",
    "\n",
    "y_pred = tree.predict(X_test)\n",
    "accuracy = np.sum(y_pred == y_test) / y_pred.size\n",
    "\n",
    "print(\"Test accuracy: {:.4f}\".format(accuracy))\n",
    "\n",
    "print(\"\\nConfusion Matrix (Rows are true labels columns are predictions)\\n\")\n",
    "\n",
    "print(metrics.confusion_matrix(y_test, y_pred))\n",
    "\n",
    "### END SOLUTION"
   ]
  },
  {
   "cell_type": "markdown",
   "metadata": {
    "nbgrader": {
     "grade": false,
     "grade_id": "cell-acfd0d75b23abd53",
     "locked": true,
     "points": 0,
     "schema_version": 3,
     "solution": false,
     "task": true
    }
   },
   "source": [
    "Comment on the accuracy achieve by your tree.  Is it better than randomly guessing? \n",
    "\n",
    "Any insight that can be gained from the confusion matrix?  "
   ]
  },
  {
   "cell_type": "markdown",
   "metadata": {
    "nbgrader": {
     "grade": true,
     "grade_id": "cell-ed8a91af4f8e8926",
     "locked": false,
     "points": 0,
     "schema_version": 3,
     "solution": true,
     "task": false
    }
   },
   "source": [
    "### BEGIN SOLUTION\n",
    "\n",
    "The accuracy is about 44%.  This is not great, but it is significantly better than chance.\n",
    "\n",
    "The striking thing about the confusion matrix is that when points are misclassified, the tend to be misclassified as one of the neighboring age ranges.  For example, only one 0-18 year old is misclassified as 35+. \n",
    "\n",
    "## Important Features\n",
    "\n",
    "I've augmented my decision tree with a dictionary that stores the total gain associated with splits on each dimension, weighted by the number of items involved in the split:\n",
    "\n",
    "\n",
    "print(tree.feature_importances)\n",
    "\n",
    "Apparently the most useful question is \"gotten a speeding ticket\" followed by \"been on radio or television\" and \"gotten stitches\".  It seems plausible that these are all questions that would useful in predicting someone's age... They are all things that happen to a large percentage of people eventually, and may be more likely to happen to you as you get older.  We can get a more nuanced idea of how these features are used by printing out the entire tree:\n",
    "### END SOLUTION\n"
   ]
  },
  {
   "cell_type": "code",
   "execution_count": null,
   "metadata": {
    "nbgrader": {
     "grade": false,
     "grade_id": "cell-30a3e58c2ca1e7de",
     "locked": true,
     "points": 0,
     "schema_version": 3,
     "solution": false,
     "task": true
    }
   },
   "outputs": [],
   "source": [
    "Print your decision tree below.  Give a rough translation of how you would explain\n",
    "the output (if this, then you are ...)."
   ]
  },
  {
   "cell_type": "code",
   "execution_count": 14,
   "metadata": {
    "nbgrader": {
     "grade": true,
     "grade_id": "cell-3efe463c2492b7e5",
     "locked": false,
     "points": 0,
     "schema_version": 3,
     "solution": true,
     "task": false
    }
   },
   "outputs": [
    {
     "name": "stdout",
     "output_type": "stream",
     "text": [
      "NODE: split dim: 2 split point: 0.5\n",
      "    NODE: split dim: 1 split point: 0.5\n",
      "        LEAF: 0.0\n",
      "        LEAF: 1.0\n",
      "    NODE: split dim: 16 split point: 0.5\n",
      "        LEAF: 2.0\n",
      "        LEAF: 3.0\n"
     ]
    }
   ],
   "source": [
    "### BEGIN SOLUTION\n",
    "\n",
    "tree.print_tree()\n",
    "\n",
    "### END SOLUTION"
   ]
  },
  {
   "cell_type": "markdown",
   "metadata": {
    "nbgrader": {
     "grade": true,
     "grade_id": "cell-5c15f7e80efa0047",
     "locked": false,
     "points": 0,
     "schema_version": 3,
     "solution": true,
     "task": false
    }
   },
   "source": [
    "## Explain Decision Tree with Words\n",
    "\n",
    "\n",
    "### BEGIN SOLUTION\n",
    "So, according to our tree...\n",
    "* If you have never gotten a speeding ticket and have never been on radio or tv -> you're under 18\n",
    "* If you have never gotten a speeding ticket but *have* been on radio or tv -> you're 19-24\n",
    "* If you have gotten a speeding ticket but have never had stitches -> you're 25-34\n",
    "* If you have gotten a speeding ticket and *have* had stitches -> you're 35+\n",
    "\n",
    "### END SOLUTION\n"
   ]
  },
  {
   "cell_type": "code",
   "execution_count": null,
   "metadata": {},
   "outputs": [],
   "source": []
  }
 ],
 "metadata": {
  "celltoolbar": "Create Assignment",
  "kernelspec": {
   "display_name": "Python 3",
   "language": "python",
   "name": "python3"
  },
  "language_info": {
   "codemirror_mode": {
    "name": "ipython",
    "version": 3
   },
   "file_extension": ".py",
   "mimetype": "text/x-python",
   "name": "python",
   "nbconvert_exporter": "python",
   "pygments_lexer": "ipython3",
   "version": "3.7.6"
  }
 },
 "nbformat": 4,
 "nbformat_minor": 4
}
